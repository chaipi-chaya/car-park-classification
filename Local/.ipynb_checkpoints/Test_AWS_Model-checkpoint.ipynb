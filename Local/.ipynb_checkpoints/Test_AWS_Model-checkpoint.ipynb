{
 "cells": [
  {
   "cell_type": "code",
   "execution_count": 16,
   "metadata": {},
   "outputs": [
    {
     "name": "stdout",
     "output_type": "stream",
     "text": [
      "number of batchs: 18\n",
      "batch size: 100\n"
     ]
    }
   ],
   "source": [
    "##### change filename to numpy image and label\n",
    "\n",
    "### get filename\n",
    "import glob\n",
    "### get image\n",
    "from PIL import Image\n",
    "import numpy as np\n",
    "import tensorflow as tf\n",
    "\n",
    "busyFilelist = glob.glob(\"C:/Users/Chaya/Google Drive/Competation/Carpark/Local/data/test/busy/*\")\n",
    "freeFilelist = glob.glob(\"C:/Users/Chaya/Google Drive/Competation/Carpark/Local/data/test/free/*\")\n",
    "filelist = busyFilelist + freeFilelist\n",
    "\n",
    "# shuffle\n",
    "from random import shuffle\n",
    "shuffle(filelist)\n",
    "\n",
    "imsize = 224\n",
    "\n",
    "## seperate to 100 each\n",
    "file_batches = []\n",
    "n = 0\n",
    "file_batch = []\n",
    "for file in filelist:\n",
    "    file_batch.append(file)\n",
    "    n += 1\n",
    "    if n % 100 == 0:\n",
    "        file_batches.append(file_batch)\n",
    "        file_batch = []\n",
    "\n",
    "file_batches.append(file_batch)\n",
    "print('number of batchs:', len(file_batches))\n",
    "print('batch size:', len(file_batches[0]))\n"
   ]
  },
  {
   "cell_type": "code",
   "execution_count": 17,
   "metadata": {},
   "outputs": [
    {
     "name": "stdout",
     "output_type": "stream",
     "text": [
      "Model: \"sequential\"\n",
      "_________________________________________________________________\n",
      "Layer (type)                 Output Shape              Param #   \n",
      "=================================================================\n",
      "mobilenetv2_1.00_224 (Model) (None, 7, 7, 1280)        2257984   \n",
      "_________________________________________________________________\n",
      "average_pooling2d (AveragePo (None, 4, 4, 1280)        0         \n",
      "_________________________________________________________________\n",
      "dropout (Dropout)            (None, 4, 4, 1280)        0         \n",
      "_________________________________________________________________\n",
      "dense (Dense)                (None, 4, 4, 1280)        1639680   \n",
      "_________________________________________________________________\n",
      "average_pooling2d_1 (Average (None, 2, 2, 1280)        0         \n",
      "_________________________________________________________________\n",
      "dropout_1 (Dropout)          (None, 2, 2, 1280)        0         \n",
      "_________________________________________________________________\n",
      "dense_1 (Dense)              (None, 2, 2, 640)         819840    \n",
      "_________________________________________________________________\n",
      "average_pooling2d_2 (Average (None, 1, 1, 640)         0         \n",
      "_________________________________________________________________\n",
      "dropout_2 (Dropout)          (None, 1, 1, 640)         0         \n",
      "_________________________________________________________________\n",
      "dense_2 (Dense)              (None, 1, 1, 320)         205120    \n",
      "_________________________________________________________________\n",
      "average_pooling2d_3 (Average (None, 1, 1, 320)         0         \n",
      "_________________________________________________________________\n",
      "dropout_3 (Dropout)          (None, 1, 1, 320)         0         \n",
      "_________________________________________________________________\n",
      "dense_3 (Dense)              (None, 1, 1, 160)         51360     \n",
      "_________________________________________________________________\n",
      "average_pooling2d_4 (Average (None, 1, 1, 160)         0         \n",
      "_________________________________________________________________\n",
      "dropout_4 (Dropout)          (None, 1, 1, 160)         0         \n",
      "_________________________________________________________________\n",
      "dense_4 (Dense)              (None, 1, 1, 80)          12880     \n",
      "_________________________________________________________________\n",
      "average_pooling2d_5 (Average (None, 1, 1, 80)          0         \n",
      "_________________________________________________________________\n",
      "dropout_5 (Dropout)          (None, 1, 1, 80)          0         \n",
      "_________________________________________________________________\n",
      "dense_5 (Dense)              (None, 1, 1, 40)          3240      \n",
      "_________________________________________________________________\n",
      "average_pooling2d_6 (Average (None, 1, 1, 40)          0         \n",
      "_________________________________________________________________\n",
      "dropout_6 (Dropout)          (None, 1, 1, 40)          0         \n",
      "_________________________________________________________________\n",
      "dense_6 (Dense)              (None, 1, 1, 20)          820       \n",
      "_________________________________________________________________\n",
      "average_pooling2d_7 (Average (None, 1, 1, 20)          0         \n",
      "_________________________________________________________________\n",
      "dropout_7 (Dropout)          (None, 1, 1, 20)          0         \n",
      "_________________________________________________________________\n",
      "dense_7 (Dense)              (None, 1, 1, 1)           21        \n",
      "=================================================================\n",
      "Total params: 4,990,945\n",
      "Trainable params: 2,732,961\n",
      "Non-trainable params: 2,257,984\n",
      "_________________________________________________________________\n"
     ]
    }
   ],
   "source": [
    "# load trained model\n",
    "model = tf.keras.models.load_model('../AWS/trained_carpark_MobileNetV2.h5')\n",
    "\n",
    "# Show the model architecture\n",
    "model.summary()"
   ]
  },
  {
   "cell_type": "code",
   "execution_count": 18,
   "metadata": {
    "scrolled": true
   },
   "outputs": [
    {
     "name": "stdout",
     "output_type": "stream",
     "text": [
      "batch number: 0 out of 18\n",
      "10/1 [============================================================================================================================================================================================================================================================================================================] - 2s 196ms/sample - loss: 1.6867 - accuracy: 0.8000\n",
      "Restored model, accuracy: 80.00%\n",
      "batch number: 1 out of 18\n",
      "10/1 [============================================================================================================================================================================================================================================================================================================] - 0s 42ms/sample - loss: 3.3733 - accuracy: 0.6000\n",
      "Restored model, accuracy: 60.00%\n",
      "batch number: 2 out of 18\n",
      "10/1 [============================================================================================================================================================================================================================================================================================================] - 0s 44ms/sample - loss: 0.0000e+00 - accuracy: 1.0000\n",
      "Restored model, accuracy: 100.00%\n",
      "batch number: 3 out of 18\n",
      "10/1 [============================================================================================================================================================================================================================================================================================================] - 0s 44ms/sample - loss: 4.2166 - accuracy: 0.5000\n",
      "Restored model, accuracy: 50.00%\n",
      "batch number: 4 out of 18\n",
      "10/1 [============================================================================================================================================================================================================================================================================================================] - 0s 43ms/sample - loss: 3.3733 - accuracy: 0.6000\n",
      "Restored model, accuracy: 60.00%\n",
      "batch number: 5 out of 18\n",
      "10/1 [============================================================================================================================================================================================================================================================================================================] - 0s 42ms/sample - loss: 1.6867 - accuracy: 0.8000\n",
      "Restored model, accuracy: 80.00%\n",
      "batch number: 6 out of 18\n",
      "10/1 [============================================================================================================================================================================================================================================================================================================] - 0s 42ms/sample - loss: 0.0000e+00 - accuracy: 1.0000\n",
      "Restored model, accuracy: 100.00%\n",
      "batch number: 7 out of 18\n",
      "10/1 [============================================================================================================================================================================================================================================================================================================] - 0s 42ms/sample - loss: 1.6867 - accuracy: 0.8000\n",
      "Restored model, accuracy: 80.00%\n",
      "batch number: 8 out of 18\n",
      "10/1 [============================================================================================================================================================================================================================================================================================================] - 0s 46ms/sample - loss: 2.5300 - accuracy: 0.7000\n",
      "Restored model, accuracy: 70.00%\n",
      "batch number: 9 out of 18\n",
      "10/1 [============================================================================================================================================================================================================================================================================================================] - 0s 42ms/sample - loss: 3.3733 - accuracy: 0.6000\n",
      "Restored model, accuracy: 60.00%\n",
      "batch number: 10 out of 18\n",
      "10/1 [============================================================================================================================================================================================================================================================================================================] - 0s 46ms/sample - loss: 1.6867 - accuracy: 0.8000\n",
      "Restored model, accuracy: 80.00%\n",
      "batch number: 11 out of 18\n",
      "10/1 [============================================================================================================================================================================================================================================================================================================] - 0s 42ms/sample - loss: 2.5300 - accuracy: 0.7000\n",
      "Restored model, accuracy: 70.00%\n",
      "batch number: 12 out of 18\n",
      "10/1 [============================================================================================================================================================================================================================================================================================================] - 0s 45ms/sample - loss: 3.3733 - accuracy: 0.6000\n",
      "Restored model, accuracy: 60.00%\n",
      "batch number: 13 out of 18\n",
      "10/1 [============================================================================================================================================================================================================================================================================================================] - 0s 42ms/sample - loss: 3.3733 - accuracy: 0.6000\n",
      "Restored model, accuracy: 60.00%\n",
      "batch number: 14 out of 18\n",
      "10/1 [============================================================================================================================================================================================================================================================================================================] - 0s 41ms/sample - loss: 3.3733 - accuracy: 0.6000\n",
      "Restored model, accuracy: 60.00%\n",
      "batch number: 15 out of 18\n",
      "10/1 [============================================================================================================================================================================================================================================================================================================] - 0s 42ms/sample - loss: 1.6867 - accuracy: 0.8000\n",
      "Restored model, accuracy: 80.00%\n",
      "batch number: 16 out of 18\n",
      "10/1 [============================================================================================================================================================================================================================================================================================================] - 0s 42ms/sample - loss: 2.5300 - accuracy: 0.7000\n",
      "Restored model, accuracy: 70.00%\n",
      "batch number: 17 out of 18\n",
      "8/1 [================================================================================================================================================================================================================================================] - 3s 367ms/sample - loss: 3.8333 - accuracy: 0.7500\n",
      "Restored model, accuracy: 75.00%\n"
     ]
    }
   ],
   "source": [
    "keras = tf.keras\n",
    "test_loss = []\n",
    "test_acc = []\n",
    "sum_acc = 0\n",
    "\n",
    "i = 0\n",
    "total = len(file_batches)\n",
    "# batch size = 10\n",
    "for file_batch in file_batches:\n",
    "    print('batch number: ' + str(i) + ' out of ' + str(total))\n",
    "    im = np.empty((1,imsize,imsize,3), int)\n",
    "    for filename in file_batch:\n",
    "        img = Image.open(filename).resize((imsize,imsize))\n",
    "        im = np.append(im, ((np.asarray(img, dtype=\"int32\")/127.5) - 1).reshape((1,imsize,imsize,3)), axis=0)\n",
    "    im = im[1:]\n",
    "\n",
    "    ### get label\n",
    "    label = []\n",
    "    n = 0\n",
    "    for filename in file_batch:\n",
    "        if filename.split(\"/\")[-1][0:4] == 'busy':\n",
    "            label.append(1)\n",
    "        else:\n",
    "            label.append(0)\n",
    "    X = tf.convert_to_tensor(im, dtype=tf.float64)\n",
    "    y = tf.convert_to_tensor(label, dtype=tf.float64)\n",
    "\n",
    "    loss, acc = model.evaluate(X, y, batch_size=10, steps=1)\n",
    "    test_loss.append(loss)\n",
    "    test_acc.append(acc)\n",
    "    sum_acc += acc\n",
    "    print('Restored model, accuracy: {:5.2f}%'.format(100*acc))\n",
    "    \n",
    "    i += 1"
   ]
  },
  {
   "cell_type": "code",
   "execution_count": 19,
   "metadata": {},
   "outputs": [
    {
     "name": "stdout",
     "output_type": "stream",
     "text": [
      "average accuracy: 0.7194444537162781\n"
     ]
    },
    {
     "data": {
      "image/png": "[encoded data removed]",
      "text/plain": [
       "<Figure size 432x288 with 1 Axes>"
      ]
     },
     "metadata": {
      "needs_background": "light"
     },
     "output_type": "display_data"
    },
    {
     "data": {
      "image/png": "[encoded data removed]",
      "text/plain": [
       "<Figure size 432x288 with 1 Axes>"
      ]
     },
     "metadata": {
      "needs_background": "light"
     },
     "output_type": "display_data"
    }
   ],
   "source": [
    "import matplotlib.pyplot as plt\n",
    "%matplotlib inline\n",
    "\n",
    "print(\"average accuracy:\", sum_acc/i)\n",
    "\n",
    "plt.plot(test_loss)\n",
    "plt.show()\n",
    "plt.plot(test_acc)\n",
    "plt.show()"
   ]
  },
  {
   "cell_type": "code",
   "execution_count": null,
   "metadata": {},
   "outputs": [],
   "source": []
  }
 ],
 "metadata": {
  "kernelspec": {
   "display_name": "Python 3",
   "language": "python",
   "name": "python3"
  },
  "language_info": {
   "codemirror_mode": {
    "name": "ipython",
    "version": 3
   },
   "file_extension": ".py",
   "mimetype": "text/x-python",
   "name": "python",
   "nbconvert_exporter": "python",
   "pygments_lexer": "ipython3",
   "version": "3.7.3"
  }
 },
 "nbformat": 4,
 "nbformat_minor": 2
}
