{
 "cells": [
  {
   "cell_type": "code",
   "execution_count": 1,
   "metadata": {},
   "outputs": [
    {
     "name": "stdout",
     "output_type": "stream",
     "text": [
      "number of data: 1707\n",
      "['data/test/busy/20150708_1530_11.jpg', 'data/test/busy/20150708_1530_12.jpg', 'data/test/busy/20150708_1530_13.jpg', 'data/test/busy/20150708_1530_15.jpg', 'data/test/busy/20150708_1530_16.jpg']\n"
     ]
    }
   ],
   "source": [
    "import boto3\n",
    "import numpy as np\n",
    "import matplotlib.pyplot as plt\n",
    "from sagemaker import get_execution_role\n",
    "from PIL import Image\n",
    "from io import BytesIO\n",
    "import tensorflow as tf\n",
    "%matplotlib inline\n",
    "\n",
    "# identify bucket\n",
    "role = get_execution_role()\n",
    "bucket='my-bucket'\n",
    "# image size\n",
    "imsize = 224\n",
    "# batch size\n",
    "bsize = 10\n",
    "\n",
    "# change limit to 10,000 then load data from s3\n",
    "client = boto3.client('s3')\n",
    "paginator = client.get_paginator('list_objects')\n",
    "page_iterator = paginator.paginate(Bucket=bucket, PaginationConfig={'MaxItems': 10000}, Prefix=\"data/test\")\n",
    "\n",
    "# count number of data\n",
    "n = 0\n",
    "files = []\n",
    "for page in page_iterator:\n",
    "    n += len(page['Contents'])\n",
    "    for file in page['Contents']:\n",
    "        files.append(file['Key'])\n",
    "    \n",
    "files = files[1:]\n",
    "print(\"number of data:\", n-1)\n",
    "print(files[0:5])"
   ]
  },
  {
   "cell_type": "code",
   "execution_count": 2,
   "metadata": {},
   "outputs": [
    {
     "name": "stdout",
     "output_type": "stream",
     "text": [
      "['data/test/busy/20150708_1540_27.jpg', 'data/test/free/20150708_1540_33.jpg', 'data/test/busy/20150708_1700_44.jpg', 'data/test/busy/20150708_1745_37.jpg', 'data/test/free/20150708_1805_3.jpg', 'data/test/free/20150708_1805_34.jpg', 'data/test/busy/20150708_1735_48.jpg']\n"
     ]
    }
   ],
   "source": [
    "from random import shuffle\n",
    "shuffle(files)\n",
    "\n",
    "## seperate to 100 each\n",
    "file_batches = []\n",
    "n = 0\n",
    "file_batch = []\n",
    "for file in files:\n",
    "    file_batch.append(file)\n",
    "    n += 1\n",
    "    if n % 10 == 0:\n",
    "        file_batches.append(file_batch)\n",
    "        file_batch = []\n",
    "\n",
    "file_batches.append(file_batch)\n",
    "print(file_batch[0:10])"
   ]
  },
  {
   "cell_type": "code",
   "execution_count": 15,
   "metadata": {},
   "outputs": [
    {
     "name": "stdout",
     "output_type": "stream",
     "text": [
      "Model: \"sequential\"\n",
      "_________________________________________________________________\n",
      "Layer (type)                 Output Shape              Param #   \n",
      "=================================================================\n",
      "mobilenetv2_1.00_224 (Model) (None, 7, 7, 1280)        2257984   \n",
      "_________________________________________________________________\n",
      "average_pooling2d (AveragePo (None, 4, 4, 1280)        0         \n",
      "_________________________________________________________________\n",
      "dropout (Dropout)            (None, 4, 4, 1280)        0         \n",
      "_________________________________________________________________\n",
      "dense (Dense)                (None, 4, 4, 1280)        1639680   \n",
      "_________________________________________________________________\n",
      "average_pooling2d_1 (Average (None, 2, 2, 1280)        0         \n",
      "_________________________________________________________________\n",
      "dropout_1 (Dropout)          (None, 2, 2, 1280)        0         \n",
      "_________________________________________________________________\n",
      "dense_1 (Dense)              (None, 2, 2, 640)         819840    \n",
      "_________________________________________________________________\n",
      "average_pooling2d_2 (Average (None, 1, 1, 640)         0         \n",
      "_________________________________________________________________\n",
      "dropout_2 (Dropout)          (None, 1, 1, 640)         0         \n",
      "_________________________________________________________________\n",
      "dense_2 (Dense)              (None, 1, 1, 320)         205120    \n",
      "_________________________________________________________________\n",
      "average_pooling2d_3 (Average (None, 1, 1, 320)         0         \n",
      "_________________________________________________________________\n",
      "dropout_3 (Dropout)          (None, 1, 1, 320)         0         \n",
      "_________________________________________________________________\n",
      "dense_3 (Dense)              (None, 1, 1, 160)         51360     \n",
      "_________________________________________________________________\n",
      "average_pooling2d_4 (Average (None, 1, 1, 160)         0         \n",
      "_________________________________________________________________\n",
      "dropout_4 (Dropout)          (None, 1, 1, 160)         0         \n",
      "_________________________________________________________________\n",
      "dense_4 (Dense)              (None, 1, 1, 80)          12880     \n",
      "_________________________________________________________________\n",
      "average_pooling2d_5 (Average (None, 1, 1, 80)          0         \n",
      "_________________________________________________________________\n",
      "dropout_5 (Dropout)          (None, 1, 1, 80)          0         \n",
      "_________________________________________________________________\n",
      "dense_5 (Dense)              (None, 1, 1, 40)          3240      \n",
      "_________________________________________________________________\n",
      "average_pooling2d_6 (Average (None, 1, 1, 40)          0         \n",
      "_________________________________________________________________\n",
      "dropout_6 (Dropout)          (None, 1, 1, 40)          0         \n",
      "_________________________________________________________________\n",
      "dense_6 (Dense)              (None, 1, 1, 20)          820       \n",
      "_________________________________________________________________\n",
      "average_pooling2d_7 (Average (None, 1, 1, 20)          0         \n",
      "_________________________________________________________________\n",
      "dropout_7 (Dropout)          (None, 1, 1, 20)          0         \n",
      "_________________________________________________________________\n",
      "dense_7 (Dense)              (None, 1, 1, 1)           21        \n",
      "=================================================================\n",
      "Total params: 4,990,945\n",
      "Trainable params: 2,732,961\n",
      "Non-trainable params: 2,257,984\n",
      "_________________________________________________________________\n"
     ]
    }
   ],
   "source": [
    "# load trained model\n",
    "model = tf.keras.models.load_model('trained_carpark_MobileNetV2.h5')\n",
    "\n",
    "# Show the model architecture\n",
    "model.summary()"
   ]
  },
  {
   "cell_type": "code",
   "execution_count": 16,
   "metadata": {
    "scrolled": true
   },
   "outputs": [
    {
     "name": "stdout",
     "output_type": "stream",
     "text": [
      "This is batch number: 0 out of 171\n",
      "collecting data\n",
      "number of image: 10\n",
      "1/1 [==============================] - 5s 5s/step - loss: 1.5333 - acc: 0.9000\n",
      "Restored model, accuracy: 90.00%\n",
      "This is batch number: 1 out of 171\n",
      "collecting data\n",
      "number of image: 10\n",
      "1/1 [==============================] - 4s 4s/step - loss: 6.1333 - acc: 0.6000\n",
      "Restored model, accuracy: 60.00%\n",
      "This is batch number: 2 out of 171\n",
      "collecting data\n",
      "number of image: 10\n",
      "1/1 [==============================] - 4s 4s/step - loss: 1.5333 - acc: 0.9000\n",
      "Restored model, accuracy: 90.00%\n",
      "This is batch number: 3 out of 171\n",
      "collecting data\n",
      "number of image: 10\n",
      "1/1 [==============================] - 4s 4s/step - loss: 6.1333 - acc: 0.6000\n",
      "Restored model, accuracy: 60.00%\n",
      "This is batch number: 4 out of 171\n",
      "collecting data\n",
      "number of image: 10\n",
      "1/1 [==============================] - 3s 3s/step - loss: 4.6000 - acc: 0.7000\n",
      "Restored model, accuracy: 70.00%\n",
      "This is batch number: 5 out of 171\n",
      "collecting data\n",
      "number of image: 10\n",
      "1/1 [==============================] - 3s 3s/step - loss: 3.0666 - acc: 0.8000\n",
      "Restored model, accuracy: 80.00%\n",
      "This is batch number: 6 out of 171\n",
      "collecting data\n",
      "number of image: 10\n",
      "1/1 [==============================] - 4s 4s/step - loss: 7.6666 - acc: 0.5000\n",
      "Restored model, accuracy: 50.00%\n",
      "This is batch number: 7 out of 171\n",
      "collecting data\n",
      "number of image: 10\n",
      "1/1 [==============================] - 3s 3s/step - loss: 3.0666 - acc: 0.8000\n",
      "Restored model, accuracy: 80.00%\n",
      "This is batch number: 8 out of 171\n",
      "collecting data\n",
      "number of image: 10\n",
      "1/1 [==============================] - 4s 4s/step - loss: 0.0000e+00 - acc: 1.0000\n",
      "Restored model, accuracy: 100.00%\n",
      "This is batch number: 9 out of 171\n",
      "collecting data\n",
      "number of image: 10\n",
      "1/1 [==============================] - 4s 4s/step - loss: 3.0666 - acc: 0.8000\n",
      "Restored model, accuracy: 80.00%\n",
      "This is batch number: 10 out of 171\n",
      "collecting data\n",
      "number of image: 10\n",
      "1/1 [==============================] - 4s 4s/step - loss: 7.6666 - acc: 0.5000\n",
      "Restored model, accuracy: 50.00%\n",
      "This is batch number: 11 out of 171\n",
      "collecting data\n",
      "number of image: 10\n",
      "1/1 [==============================] - 4s 4s/step - loss: 4.6000 - acc: 0.7000\n",
      "Restored model, accuracy: 70.00%\n",
      "This is batch number: 12 out of 171\n",
      "collecting data\n",
      "number of image: 10\n",
      "1/1 [==============================] - 4s 4s/step - loss: 3.0666 - acc: 0.8000\n",
      "Restored model, accuracy: 80.00%\n",
      "This is batch number: 13 out of 171\n",
      "collecting data\n",
      "number of image: 10\n",
      "1/1 [==============================] - 4s 4s/step - loss: 1.5333 - acc: 0.9000\n",
      "Restored model, accuracy: 90.00%\n",
      "This is batch number: 14 out of 171\n",
      "collecting data\n",
      "number of image: 10\n",
      "1/1 [==============================] - 4s 4s/step - loss: 4.6000 - acc: 0.7000\n",
      "Restored model, accuracy: 70.00%\n",
      "This is batch number: 15 out of 171\n",
      "collecting data\n",
      "number of image: 10\n",
      "1/1 [==============================] - 4s 4s/step - loss: 4.6000 - acc: 0.7000\n",
      "Restored model, accuracy: 70.00%\n",
      "This is batch number: 16 out of 171\n",
      "collecting data\n",
      "number of image: 10\n",
      "1/1 [==============================] - 4s 4s/step - loss: 3.0666 - acc: 0.8000\n",
      "Restored model, accuracy: 80.00%\n",
      "This is batch number: 17 out of 171\n",
      "collecting data\n",
      "number of image: 10\n",
      "1/1 [==============================] - 4s 4s/step - loss: 4.6000 - acc: 0.7000\n",
      "Restored model, accuracy: 70.00%\n",
      "This is batch number: 18 out of 171\n",
      "collecting data\n",
      "number of image: 10\n",
      "1/1 [==============================] - 4s 4s/step - loss: 3.0666 - acc: 0.8000\n",
      "Restored model, accuracy: 80.00%\n",
      "This is batch number: 19 out of 171\n",
      "collecting data\n",
      "number of image: 10\n",
      "1/1 [==============================] - 4s 4s/step - loss: 4.6000 - acc: 0.7000\n",
      "Restored model, accuracy: 70.00%\n"
     ]
    }
   ],
   "source": [
    "test_loss = []\n",
    "test_acc = []\n",
    "i = 0\n",
    "sum_acc = 0\n",
    "for file_batch in file_batches:\n",
    "\n",
    "    label = []\n",
    "    im = np.empty((1,imsize,imsize,3), int)\n",
    "    ## for 1 batch\n",
    "    print(\"This is batch number: \" + str(i) + \" out of \" + str(len(file_batches)))\n",
    "    \n",
    "    # collect images and labels\n",
    "    print(\"collecting data\")\n",
    "    for file in file_batch:\n",
    "        if \"busy\" in file:\n",
    "            label.append(1)\n",
    "        else :\n",
    "            label.append(0)\n",
    "        # collect image\n",
    "        img = Image.open(BytesIO(client.get_object(Bucket=bucket, Key=file)['Body'].read())).resize((imsize,imsize))\n",
    "        im = np.append(im, ((np.asarray(img, dtype=\"int32\")/127.5) - 1).reshape((1,imsize,imsize,3)), axis=0)\n",
    "    im = im[1:]\n",
    "    \n",
    "    print(\"number of image:\", len(label))\n",
    "\n",
    "\n",
    "    X = tf.convert_to_tensor(im)\n",
    "    y = tf.convert_to_tensor(label)\n",
    "\n",
    "    loss, acc = model.evaluate(X, y, batch_size=10, steps=1)\n",
    "    test_loss.append(loss)\n",
    "    test_acc.append(acc)\n",
    "    sum_acc += acc\n",
    "    print('Restored model, accuracy: {:5.2f}%'.format(100*acc))\n",
    "    \n",
    "    i += 1\n",
    "    \n",
    "    if i == 20:\n",
    "        break"
   ]
  },
  {
   "cell_type": "code",
   "execution_count": 17,
   "metadata": {},
   "outputs": [
    {
     "name": "stdout",
     "output_type": "stream",
     "text": [
      "average accuracy: 0.7449999988079071\n"
     ]
    },
    {
     "data": {
      "image/png": "[encoded data removed]",
      "text/plain": [
       "<Figure size 432x288 with 1 Axes>"
      ]
     },
     "metadata": {},
     "output_type": "display_data"
    },
    {
     "data": {
      "image/png": "[encoded data removed]",
      "text/plain": [
       "<Figure size 432x288 with 1 Axes>"
      ]
     },
     "metadata": {},
     "output_type": "display_data"
    }
   ],
   "source": [
    "import matplotlib.pyplot as plt\n",
    "%matplotlib inline\n",
    "\n",
    "print(\"average accuracy:\", sum_acc/i)\n",
    "\n",
    "plt.plot(test_loss)\n",
    "plt.show()\n",
    "plt.plot(test_acc)\n",
    "plt.show()"
   ]
  },
  {
   "cell_type": "code",
   "execution_count": null,
   "metadata": {},
   "outputs": [],
   "source": [
    "### check query time for 5 image"
   ]
  },
  {
   "cell_type": "code",
   "execution_count": null,
   "metadata": {},
   "outputs": [],
   "source": [
    "import time\n",
    "start = time.time()\n",
    "test_image = im[0]\n",
    "test_label = label[0]\n",
    "for i in range(5):\n",
    "    print(model.predict(test_images))\n",
    "print(test_label)\n",
    "print(time.time() - start)"
   ]
  }
 ],
 "metadata": {
  "kernelspec": {
   "display_name": "Python 3",
   "language": "python",
   "name": "python3"
  },
  "language_info": {
   "codemirror_mode": {
    "name": "ipython",
    "version": 3
   },
   "file_extension": ".py",
   "mimetype": "text/x-python",
   "name": "python",
   "nbconvert_exporter": "python",
   "pygments_lexer": "ipython3",
   "version": "3.7.3"
  }
 },
 "nbformat": 4,
 "nbformat_minor": 2
}
