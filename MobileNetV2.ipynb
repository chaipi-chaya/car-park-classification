{
 "cells": [
  {
   "cell_type": "code",
   "execution_count": 1,
   "metadata": {},
   "outputs": [
    {
     "name": "stdout",
     "output_type": "stream",
     "text": [
      "(500, 224, 224, 3)\n",
      "500\n"
     ]
    }
   ],
   "source": [
    "##### change filename to numpy image and label\n",
    "\n",
    "### get filename\n",
    "import glob\n",
    "\n",
    "busyFilelist = glob.glob(\"C:/Users/Chaya/Google Drive/Competation/Carpark/A/busy/*\")\n",
    "freeFilelist = glob.glob(\"C:/Users/Chaya/Google Drive/Competation/Carpark/A/free/*\")\n",
    "limit = 250\n",
    "filelist = busyFilelist[0:limit] + freeFilelist[0:limit]\n",
    "\n",
    "# shuffle\n",
    "from random import shuffle\n",
    "shuffle(filelist)\n",
    "\n",
    "### get image\n",
    "from PIL import Image\n",
    "import numpy as np\n",
    "\n",
    "imsize = 224\n",
    "\n",
    "im = np.empty((1,imsize,imsize,3), int)\n",
    "for filename in filelist:\n",
    "    img = Image.open(filename).resize((imsize,imsize))\n",
    "    im = np.append(im, ((np.asarray(img, dtype=\"int32\")/127.5) - 1).reshape((1,imsize,imsize,3)), axis=0)\n",
    "im = im[1:]\n",
    "\n",
    "### get label\n",
    "label = []\n",
    "n = 0\n",
    "for filename in filelist:\n",
    "    if filename.split(\"/\")[-1][0:4] == 'busy':\n",
    "        label.append(1)\n",
    "    else:\n",
    "        label.append(0)\n",
    "        \n",
    "print(im.shape)\n",
    "print(len(label))"
   ]
  },
  {
   "cell_type": "code",
   "execution_count": 2,
   "metadata": {},
   "outputs": [],
   "source": [
    "import tensorflow as tf\n",
    "\n",
    "keras = tf.keras\n",
    "bsize = 10\n",
    "X = tf.convert_to_tensor(im[0:450], dtype=tf.float64)\n",
    "y = tf.convert_to_tensor(label[0:450], dtype=tf.float64)\n",
    "Xv = tf.convert_to_tensor(im[-50:], dtype=tf.float64)\n",
    "yv = tf.convert_to_tensor(label[-50:], dtype=tf.float64)\n",
    "train = tf.data.Dataset.from_tensor_slices((X, y))\n",
    "validation = tf.data.Dataset.from_tensor_slices((Xv, yv))\n",
    "validation_batches = validation.batch(bsize)\n",
    "train_batches = train.batch(bsize)\n",
    "\n",
    "del im\n",
    "del label"
   ]
  },
  {
   "cell_type": "code",
   "execution_count": 3,
   "metadata": {},
   "outputs": [
    {
     "name": "stdout",
     "output_type": "stream",
     "text": [
      "(10, 224, 224, 3)\n",
      "WARNING:tensorflow:Layer Conv1_pad is casting an input tensor from dtype float64 to the layer's dtype of float32, which is new behavior in TensorFlow 2.  The layer has dtype float32 because it's dtype defaults to floatx.\n",
      "\n",
      "If you intended to run this layer in float32, you can safely ignore this warning. If in doubt, this warning is likely only an issue if you are porting a TensorFlow 1.X model to TensorFlow 2.\n",
      "\n",
      "To change all layers to have dtype float64 by default, call `tf.keras.backend.set_floatx('float64')`. To change just this layer, pass dtype='float64' to the layer constructor. If you are the author of this layer, you can disable autocasting by passing autocast=False to the base Layer constructor.\n",
      "\n",
      "(10, 7, 7, 1280)\n"
     ]
    }
   ],
   "source": [
    "# Extract feature from MobileNet\n",
    "base_model = tf.keras.applications.MobileNetV2(input_shape=(imsize, imsize, 3), include_top=False, weights='imagenet')\n",
    "\n",
    "for image_batch, label_batch in train_batches.take(1):\n",
    "    pass\n",
    "\n",
    "print(image_batch.shape)\n",
    "\n",
    "feature = base_model(image_batch)\n",
    "print(feature.shape)"
   ]
  },
  {
   "cell_type": "code",
   "execution_count": 4,
   "metadata": {
    "scrolled": true
   },
   "outputs": [],
   "source": [
    "# freeze model\n",
    "base_model.trainable = False\n",
    "# base_model.summary()"
   ]
  },
  {
   "cell_type": "code",
   "execution_count": 5,
   "metadata": {},
   "outputs": [
    {
     "name": "stdout",
     "output_type": "stream",
     "text": [
      "(10, 1280)\n"
     ]
    }
   ],
   "source": [
    "global_average_layer = tf.keras.layers.GlobalAveragePooling2D()\n",
    "feature_average = global_average_layer(feature)\n",
    "print(feature_average.shape)"
   ]
  },
  {
   "cell_type": "code",
   "execution_count": 6,
   "metadata": {},
   "outputs": [
    {
     "name": "stdout",
     "output_type": "stream",
     "text": [
      "(10, 1)\n"
     ]
    }
   ],
   "source": [
    "prediction_layer = keras.layers.Dense(1)\n",
    "prediction_batch = prediction_layer(feature_average)\n",
    "print(prediction_batch.shape)"
   ]
  },
  {
   "cell_type": "code",
   "execution_count": 7,
   "metadata": {},
   "outputs": [],
   "source": [
    "model = tf.keras.Sequential([base_model, global_average_layer, prediction_layer])"
   ]
  },
  {
   "cell_type": "code",
   "execution_count": 8,
   "metadata": {},
   "outputs": [],
   "source": [
    "base_learning_rate = 0.0005\n",
    "model.compile(optimizer=tf.keras.optimizers.RMSprop(lr=base_learning_rate),\n",
    "              loss='binary_crossentropy',\n",
    "              metrics=['accuracy'])\n",
    "# model.summary()\n",
    "epochs = 20"
   ]
  },
  {
   "cell_type": "code",
   "execution_count": 9,
   "metadata": {
    "scrolled": true
   },
   "outputs": [
    {
     "name": "stdout",
     "output_type": "stream",
     "text": [
      "Epoch 1/20\n",
      "45/45 [==============================] - 43s 948ms/step - loss: 1.5461 - accuracy: 0.7244 - val_loss: 0.0000e+00 - val_accuracy: 0.0000e+00\n",
      "Epoch 2/20\n",
      "45/45 [==============================] - 42s 926ms/step - loss: 0.7373 - accuracy: 0.8489 - val_loss: 1.9695 - val_accuracy: 0.8200\n",
      "Epoch 3/20\n",
      "45/45 [==============================] - 42s 937ms/step - loss: 0.5116 - accuracy: 0.9133 - val_loss: 1.7375 - val_accuracy: 0.8000\n",
      "Epoch 4/20\n",
      "45/45 [==============================] - 43s 965ms/step - loss: 0.4408 - accuracy: 0.9222 - val_loss: 1.6971 - val_accuracy: 0.8200\n",
      "Epoch 5/20\n",
      "45/45 [==============================] - 45s 998ms/step - loss: 0.4010 - accuracy: 0.9422 - val_loss: 1.6162 - val_accuracy: 0.8600\n",
      "Epoch 6/20\n",
      "45/45 [==============================] - 47s 1s/step - loss: 0.2953 - accuracy: 0.9422 - val_loss: 1.3146 - val_accuracy: 0.9000\n",
      "Epoch 7/20\n",
      "45/45 [==============================] - 47s 1s/step - loss: 0.2662 - accuracy: 0.9667 - val_loss: 1.2811 - val_accuracy: 0.9000\n",
      "Epoch 8/20\n",
      "45/45 [==============================] - 47s 1s/step - loss: 0.2547 - accuracy: 0.9689 - val_loss: 1.2676 - val_accuracy: 0.9000\n",
      "Epoch 9/20\n",
      "45/45 [==============================] - 44s 977ms/step - loss: 0.2465 - accuracy: 0.9800 - val_loss: 1.2587 - val_accuracy: 0.9000\n",
      "Epoch 10/20\n",
      "45/45 [==============================] - 43s 966ms/step - loss: 0.2366 - accuracy: 0.9800 - val_loss: 1.2508 - val_accuracy: 0.9200\n",
      "Epoch 11/20\n",
      "45/45 [==============================] - 45s 1s/step - loss: 0.2318 - accuracy: 0.9822 - val_loss: 1.2472 - val_accuracy: 0.9200\n",
      "Epoch 12/20\n",
      "45/45 [==============================] - 46s 1s/step - loss: 0.2256 - accuracy: 0.9867 - val_loss: 1.2445 - val_accuracy: 0.9200\n",
      "Epoch 13/20\n",
      "45/45 [==============================] - 48s 1s/step - loss: 0.2206 - accuracy: 0.9867 - val_loss: 1.2435 - val_accuracy: 0.9200\n",
      "Epoch 14/20\n",
      "45/45 [==============================] - 44s 982ms/step - loss: 0.2160 - accuracy: 0.9867 - val_loss: 1.2442 - val_accuracy: 0.9200\n",
      "Epoch 15/20\n",
      "45/45 [==============================] - 41s 910ms/step - loss: 0.2161 - accuracy: 0.9867 - val_loss: 1.2421 - val_accuracy: 0.9200\n",
      "Epoch 16/20\n",
      "45/45 [==============================] - 40s 882ms/step - loss: 0.1834 - accuracy: 0.9867 - val_loss: 1.2466 - val_accuracy: 0.9200\n",
      "Epoch 17/20\n",
      "45/45 [==============================] - 40s 895ms/step - loss: 0.1602 - accuracy: 0.9867 - val_loss: 1.2530 - val_accuracy: 0.9000\n",
      "Epoch 18/20\n",
      "45/45 [==============================] - 42s 936ms/step - loss: 0.1472 - accuracy: 0.9889 - val_loss: 1.2483 - val_accuracy: 0.9000\n",
      "Epoch 19/20\n",
      "45/45 [==============================] - 42s 932ms/step - loss: 0.1485 - accuracy: 0.9889 - val_loss: 1.2567 - val_accuracy: 0.9000\n",
      "Epoch 20/20\n",
      "45/45 [==============================] - 41s 913ms/step - loss: 0.1457 - accuracy: 0.9911 - val_loss: 1.2520 - val_accuracy: 0.9000\n"
     ]
    }
   ],
   "source": [
    "history = model.fit(train_batches, epochs=epochs, validation_data=validation_batches)"
   ]
  },
  {
   "cell_type": "code",
   "execution_count": 10,
   "metadata": {},
   "outputs": [
    {
     "data": {
      "image/png": "[encoded data removed]",
      "text/plain": [
       "<Figure size 576x576 with 2 Axes>"
      ]
     },
     "metadata": {
      "needs_background": "light"
     },
     "output_type": "display_data"
    }
   ],
   "source": [
    "import matplotlib.pyplot as plt\n",
    "%matplotlib inline\n",
    "\n",
    "acc = history.history['accuracy']\n",
    "val_acc = history.history['val_accuracy']\n",
    "\n",
    "loss = history.history['loss']\n",
    "val_loss = history.history['val_loss']\n",
    "\n",
    "plt.figure(figsize=(8, 8))\n",
    "plt.subplot(2, 1, 1)\n",
    "plt.plot(acc, label='Training Accuracy')\n",
    "plt.plot(val_acc, label='Validation Accuracy')\n",
    "plt.legend(loc='lower right')\n",
    "plt.ylabel('Accuracy')\n",
    "plt.ylim([min(plt.ylim()),1])\n",
    "plt.title('Training and Validation Accuracy')\n",
    "\n",
    "plt.subplot(2, 1, 2)\n",
    "plt.plot(loss, label='Training Loss')\n",
    "plt.plot(val_loss, label='Validation Loss')\n",
    "plt.legend(loc='upper right')\n",
    "plt.ylabel('Cross Entropy')\n",
    "plt.ylim([0,8.0])\n",
    "plt.title('Training and Validation Loss')\n",
    "plt.xlabel('epoch')\n",
    "plt.show()"
   ]
  },
  {
   "cell_type": "code",
   "execution_count": null,
   "metadata": {},
   "outputs": [],
   "source": []
  }
 ],
 "metadata": {
  "kernelspec": {
   "display_name": "Python 3",
   "language": "python",
   "name": "python3"
  },
  "language_info": {
   "codemirror_mode": {
    "name": "ipython",
    "version": 3
   },
   "file_extension": ".py",
   "mimetype": "text/x-python",
   "name": "python",
   "nbconvert_exporter": "python",
   "pygments_lexer": "ipython3",
   "version": "3.7.3"
  }
 },
 "nbformat": 4,
 "nbformat_minor": 2
}
